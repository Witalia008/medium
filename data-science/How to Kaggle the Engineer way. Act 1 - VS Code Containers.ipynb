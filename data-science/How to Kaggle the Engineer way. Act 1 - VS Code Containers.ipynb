{
 "cells": [
  {
   "cell_type": "markdown",
   "id": "1923791b",
   "metadata": {},
   "source": [
    "# How to Kaggle the Engineer way. Act 1: VS Code Containers\n",
    "\n",
    "Or, how to engineer the heck out of your Kaggle development environment: a play in 2 acts.\n",
    "\n",
    "My entire Kaggle work, including what's discussed in this article, is published [here](https://github.com/Witalia008/kaggle-public)."
   ]
  },
  {
   "cell_type": "markdown",
   "id": "c9e25943",
   "metadata": {},
   "source": [
    "## Intro and Motivation"
   ]
  },
  {
   "cell_type": "markdown",
   "id": "0a1a0da0",
   "metadata": {},
   "source": [
    "I am a software engineer, who not so long ago decided to embark on new challenge of becoming a data scientist.\n",
    "As part of that I started participating in competitions on Kaggle (I've done just 2 so far).\n",
    "However, at the beginning I've hit quite a troublesome ramp-up stage. Most of the time of those first two competitions I've spent setting up my development environment. I just couldn't bear all those manual and repetitive tasks: downloading datasets, hard-coding paths, manually submitting through the website, and most importantly getting lost in all the inputs and outputs of the models (i.e. tracking versions).\n",
    "\n",
    "So, I've decided that I would save myself a lot of time later if I spent some time setting things up right at the beginning - i.e. to take the Software Engineering way.\n",
    "\n",
    "This is a story in two acts:\n",
    "* Act 1 is my set up of VS Code with Containers for local development to mimic that on Kaggle kernels.\n",
    "* Act 2 is my set up of Google Colab to run independently yet work with Kaggle.\n",
    "\n",
    "At the end of Act 1 you will be able to develop locally and train on Kaggle without any manual steps. Act 2 will be in an upcoming article."
   ]
  },
  {
   "cell_type": "markdown",
   "id": "a07d2df1",
   "metadata": {},
   "source": [
    "## Act 1 - Local containerised environment in VS Code\n",
    "\n",
    "During the first competition I took part in (an image classification problem), I started simply by using Kaggle kernels online, since my laptop doesn't have GPU and it would take me ages to train the models.\n",
    "\n",
    "However, very quickly kernels were not enough:\n",
    "* First of all, I wanted to track everything on GitHub, so I'd end up downloading everything locally, committing, etc., every time I make a change. That switching between tools just wasn't acceptable.\n",
    "* Second of all, I wanted to be able to debug my code. I believe that debugging is a powerful tool and that's just a fact - a \"thorn in the side\" of those that like using Vim for typing code.\n",
    "\n"
   ]
  },
  {
   "cell_type": "markdown",
   "id": "c7ba0551",
   "metadata": {},
   "source": [
    "### Overview of VS Code Remote: Containers"
   ]
  },
  {
   "cell_type": "markdown",
   "id": "5dcb6638",
   "metadata": {},
   "source": [
    "Containers are a great tool if you don't feel like having to do the set up steps over and over again.\n",
    "They allow you to define configuration steps once, and they use that environment any other time. Or, better yet, use one pre-defined by someone else, e.g. by Kaggle.\n",
    "\n",
    "You can find extensive information on how to use VS Code: Remote extension to work inside containers [here](https://code.visualstudio.com/docs/remote/containers)."
   ]
  },
  {
   "cell_type": "markdown",
   "id": "dece31c9",
   "metadata": {},
   "source": [
    "### Get Kaggle container image\n",
    "\n",
    "Kaggle kernels on their website work exactly this way - they have a pre-defined container image that gets loaded for each user's notebook, thus isolating their environments.\n",
    "\n",
    "And, luckily for us, they have their images published.\n",
    "* [Here](https://github.com/Kaggle/docker-python) they have information on their Python images.\n",
    "* You can peek inside their [Dockerfile](https://github.com/Kaggle/docker-python/blob/master/Dockerfile) to see what they're installing inside.\n",
    "* The images are published on Google Container Registry at [CPU-only](gcr.io/kaggle-images/python) or [GPU](gcr.io/kaggle-gpu-images/python)"
   ]
  },
  {
   "cell_type": "markdown",
   "id": "96e8c822",
   "metadata": {},
   "source": [
    "### Configure VS Code\n",
    "\n",
    "* First, you need to install [VS Code Remote Development Extension Pack](https://marketplace.visualstudio.com/items?itemName=ms-vscode-remote.vscode-remote-extensionpack).\n",
    "\n",
    "* Second, create `.devcontainer/devcontainer.json` file to store your environment definition ([more info](https://code.visualstudio.com/docs/remote/containers#_create-a-devcontainerjson-file)):\n",
    "```json\n",
    "{\n",
    "    \"name\": \"Kaggle Dev CPU\",\n",
    "    \"image\": \"gcr.io/kaggle-images/python\", // Remember to pull latest before rebuilding.\n",
    "    \"extensions\": [\n",
    "        \"ms-python.python\",\n",
    "    ],\n",
    "    \"settings\": {\n",
    "        \"terminal.integrated.shell.linux\": \"/bin/bash\",\n",
    "        \"python.pythonPath\": \"/opt/conda/bin/python\"\n",
    "    },\n",
    "    \"devPort\": 8888,\n",
    "    \"shutdownAction\": \"none\"\n",
    "}\n",
    "```\n",
    "* Run VS Code command `Remote-Containers: Rebuild and Reopen in Container`.\n",
    "* Your VS Code window title should now report `... [Dev Container: Kaggle Dev CPU] - ...`."
   ]
  },
  {
   "cell_type": "markdown",
   "id": "a30b20cf",
   "metadata": {},
   "source": [
    "### Mimic Kaggle environment\n",
    "\n",
    "Even though now I'd have development done in VS Code, I'd still want to train on Kaggle because of the GPU.\n",
    "And, again I wanted to have to do minimal manual tasks to switch from running locally to Kaggle. So, I decided to *mimic* Kaggle environment locally so that the script/notebook wouldn't even know the difference.\n",
    "\n",
    "I already had the same Container running, so I just needed to mimic folder locations:\n",
    "- `/kaggle/input`: the folder to which the datasets are mapped.\n",
    "- `/kaggle/working`: the folder where the output is stored (and, current working directory for the notebook/script).\n",
    "\n",
    "To achieve this:\n",
    "* Create `input` and `working` folders where it's convenient for you. I chose `data/` folder within my workspace.\n",
    "* Create mappings for the container in `devcontainer.json`:\n",
    "```json\n",
    "\"mounts\": [\n",
    "    \"type=bind,source=${localWorkspaceFolder}/data/input,target=/kaggle/input\",\n",
    "    \"type=bind,source=${localWorkspaceFolder}/data/output,target=/kaggle/output\",\n",
    "],\n",
    "```\n",
    "The above configuration maps `data/input` folder from within my local workspace folder inside the container under path `/kaggle/input` - just like it is on Kaggle. It also maps an extra folder `data/output <-> /kaggle/output` so that notebooks could persist data outside of the containers.\n",
    "\n",
    "* Create a script `.devcontainer/setup.sh` that would be executed by VS Code after container creation:\n",
    "```bash\n",
    "#!/bin/bash\n",
    "mkdir /kaggle/working\n",
    "```\n",
    "\n",
    "Don't forget to make it executable: `chmod +x .devcontainer/setup.sh`.\n",
    "\n",
    "And tell VS Code to run it (in `devcontainer.json`):\n",
    "```json\n",
    "\"postCreateCommand\": \".devcontainer/setup.sh\",\n",
    "```"
   ]
  },
  {
   "cell_type": "markdown",
   "id": "bbe8b4ef",
   "metadata": {},
   "source": [
    "### Getting datasets from Kaggle\n",
    "\n",
    "At first I would simply download the datasets manually (to a folder `data/input`) and name them the same as Kaggle kernel would.\n",
    "However, when I started using different additional datasets or additional libraries, etc., I started looking if maybe Kaggle has some API or tool to automate the process. And luckily [it does](https://github.com/Kaggle/kaggle-api).\n",
    "\n",
    "So, I decided to set up VS Code tasks (you can learn more [here](https://code.visualstudio.com/docs/editor/tasks)) that would run the commands to download datasets, files, etc.:\n",
    "* Get your Kaggle API credentials as described [here](https://github.com/Kaggle/kaggle-api#api-credentials).\n",
    "* I placed `kaggle.json` in my workspace folder (**make sure to add it to `.gitignore`!**):\n",
    "* Then we need to make sure it's in home directory of the container to be able to run within (not to have to switch to local mode).\n",
    "\n",
    "Add a script called `.devcontainer/setup-mounted.sh` (this one will be run after code was mounted):\n",
    "```bash\n",
    "#!/bin/bash\n",
    "# Set up a link to the API key to root's home.\n",
    "mkdir /root/.kaggle\n",
    "ln -s /workspaces/kaggle/kaggle.json /root/.kaggle/kaggle.json\n",
    "chmod 600 /root/.kaggle/kaggle.json\n",
    "```\n",
    "\n",
    "And tell VS Code to run this script after attaching to the container:\n",
    "```json\n",
    "\"postAttachCommand\": \".devcontainer/setup-mounted.sh\",\n",
    "```\n",
    "  \n",
    "* After Kaggle API is set up, add VS Code tasks (in `.vscode/tasks.json`):\n",
    "\n",
    "```json\n",
    "\"tasks\": [\n",
    "  {\n",
    "      \"label\": \"kaggle dataset download\",\n",
    "      \"type\": \"shell\",\n",
    "      \"command\": \"kaggle datasets download ${input:userName}/${input:datasetName} -p ${input:datasetName} --unzip --force\",\n",
    "      \"options\": {\n",
    "          \"cwd\": \"/kaggle/input\"\n",
    "      },\n",
    "      \"problemMatcher\": []\n",
    "  }\n",
    "]\n",
    "```\n",
    "\n",
    "The above task would download a dataset in format `<username>/<dataset name>` to the directory `/kaggle/input` just like it would be done in Kaggle kernels."
   ]
  },
  {
   "cell_type": "markdown",
   "id": "cecd151a",
   "metadata": {},
   "source": [
    "### Run environment-specific logic (if necessary)\n",
    "\n",
    "This could be useful if you only have CPU on your machine, and could only run training for 2 epochs, but when running on Kaggle, you'd like to run full training (on, for instance, 30 epochs).\n",
    "\n",
    "For this, I was using an environment variable that would only be set in VS Code.\n",
    "* Tell VS Code to define this environment variable in `devcontainer.json`:\n",
    "```json\n",
    "\"containerEnv\": {\n",
    "    \"KAGGLE_MODE\": \"DEV\"\n",
    "},\n",
    "```\n",
    "* Use it in code to check whether you're running locally or not:\n",
    "```python\n",
    "import os\n",
    "DEVMODE = os.getenv(\"KAGGLE_MODE\") == \"DEV\"\n",
    "print(f\"DEV MODE: {DEVMODE}\")\n",
    "EPOCHS = 2 if DEVMODE else 30\n",
    "```\n",
    "This step I liked the least since I had to repeat this in every notebook... However, it was only on creation of the notebook, so still much better than having to do everything manually every time when wishing to switch between environments."
   ]
  },
  {
   "cell_type": "markdown",
   "id": "af35e56e",
   "metadata": {},
   "source": [
    "### Extra\n",
    "\n",
    "You can enable a number of useful extensions for your work. In `devcontainer.json`:\n",
    "```json\n",
    "\"extensions\": [\n",
    "    \"ms-python.python\",\n",
    "    \"ms-python.vscode-pylance\",\n",
    "    // Editing/dev process\n",
    "    \"streetsidesoftware.code-spell-checker\",\n",
    "    \"wayou.vscode-todo-highlight\",\n",
    "    \"janisdd.vscode-edit-csv\",\n",
    "    \"davidanson.vscode-markdownlint\",\n",
    "    // VCS helpers\n",
    "    \"donjayamanne.githistory\",\n",
    "    \"eamodio.gitlens\"\n",
    "],\n",
    "```\n",
    "\n",
    "And don't forget a bunch of useful [settings](https://github.com/Witalia008/kaggle-public/blob/master/.vscode/settings.json) (like formatting and linting your code) for your VS Code environment. "
   ]
  },
  {
   "cell_type": "markdown",
   "id": "7d0d188f",
   "metadata": {},
   "source": [
    "### Entire setup\n",
    "\n",
    "You can refer to the files:\n",
    "* [.devcontainer](https://github.com/Witalia008/kaggle-public/tree/master/.devcontainer) folder.\n",
    "* [.vscode](https://github.com/Witalia008/kaggle-public/tree/master/.vscode) folder.\n",
    "* [cassava_inference.py](https://github.com/Witalia008/kaggle-public/blob/master/cassava-leaf-disease-classification/cassava-inference.py) - sample python script."
   ]
  },
  {
   "cell_type": "markdown",
   "id": "85f3f535",
   "metadata": {},
   "source": [
    "### Further improvements\n",
    "\n",
    "Something I haven't done, but is possible in Kaggle API:\n",
    "* It allows to upload notebooks and run them ([read more](https://github.com/Kaggle/kaggle-api#kernels)), so you won't have to got to the website manually.\n",
    "* It also allows to submit to the competition (will be covered in Act 2).\n",
    "* It has some other features that might be useful for you, like listing leader board, etc."
   ]
  },
  {
   "cell_type": "markdown",
   "id": "a185d869",
   "metadata": {},
   "source": [
    "## Summary\n",
    "\n",
    "Following the steps described in this article, one can set up development environment on their local machine very similar to the one on Kaggle, with additional perks of version control system and debugging (and any other advantage of using an IDE).\n",
    "\n",
    "This could be achieved by a few steps:\n",
    "* Configuring VS Code to develop inside a Kaggle container.\n",
    "* Setting up directory structure similar to Kaggle's with mapping to local machine's storage.\n",
    "* Using Kaggle API to download datasets and more.\n",
    "* Using environment variables to have environment-specific logic in the code.\n",
    "\n",
    "I hope this set up could help you ease your work when participating in Kaggle competitions."
   ]
  },
  {
   "cell_type": "code",
   "execution_count": null,
   "id": "c6299fd3",
   "metadata": {},
   "outputs": [],
   "source": []
  }
 ],
 "metadata": {
  "kernelspec": {
   "display_name": "Python 3",
   "language": "python",
   "name": "python3"
  },
  "language_info": {
   "codemirror_mode": {
    "name": "ipython",
    "version": 3
   },
   "file_extension": ".py",
   "mimetype": "text/x-python",
   "name": "python",
   "nbconvert_exporter": "python",
   "pygments_lexer": "ipython3",
   "version": "3.8.5"
  }
 },
 "nbformat": 4,
 "nbformat_minor": 5
}
